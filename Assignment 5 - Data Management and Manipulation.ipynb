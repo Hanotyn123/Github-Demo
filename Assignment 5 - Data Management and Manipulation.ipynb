{
 "cells": [
  {
   "cell_type": "markdown",
   "metadata": {},
   "source": [
    "# SCH-MGMT 697P Business Applications of Python\n",
    "### Assignment V: Data Management and Manipulation\n",
    "### Due: Wednesday 04-10 at 11:59pm\n",
    "Please complete these exercises to the best of your abilities. Please include code to invoke each of your functions to demonstrate the functionality. Write comments throughout your code to explain steps. If you run into a persistent error, please demonstrate your efforts to resolve it; search the web for the error, see if you can get closer to figuring it out. Document what you tried in order to fix the problem."
   ]
  },
  {
   "cell_type": "markdown",
   "metadata": {},
   "source": [
    "### Problem 1. Numpy Array Basics\n",
    "a.  Create an array with the following data, specify the data type as int\n",
    "```\n",
    "[[1,2,3,4,5],[6,7,8,9,10],[11,12,13,14,15],[16,17,18,19,20],[21,22,23,24,25]]\n",
    "```\n",
    "b.  Access the first and last entry of the array\n",
    "\n",
    "c.  Access the first row and the first column of the array\n",
    "\n",
    "d.  Find the mean and standard deviation of the second column"
   ]
  },
  {
   "cell_type": "code",
   "execution_count": 26,
   "metadata": {},
   "outputs": [
    {
     "name": "stdout",
     "output_type": "stream",
     "text": [
      "[[ 1  2  3  4  5]\n",
      " [ 6  7  8  9 10]\n",
      " [11 12 13 14 15]\n",
      " [16 17 18 19 20]\n",
      " [21 22 23 24 25]]\n",
      "1 25\n",
      "[1 2 3 4 5] [ 1  6 11 16 21]\n"
     ]
    },
    {
     "data": {
      "text/plain": [
       "(12.0, 7.0710678118654755)"
      ]
     },
     "execution_count": 26,
     "metadata": {},
     "output_type": "execute_result"
    }
   ],
   "source": [
    "import numpy as np\n",
    "y=[[1,2,3,4,5],[6,7,8,9,10],[11,12,13,14,15],[16,17,18,19,20],[21,22,23,24,25]]\n",
    "x=np.array(y,int)\n",
    "print(x)\n",
    "print(x[0,0],x[-1,-1])\n",
    "print(x[0],x[:,0])\n",
    "np.mean(x[:,1]),np.std(x[:,1])"
   ]
  },
  {
   "cell_type": "markdown",
   "metadata": {},
   "source": [
    "### Problem 2. Opperations with Numpy Arrays\n",
    "a. Slice off the outer edges of the array, that is, remove the first and last row and the first and last column.\n",
    "\n",
    "b. Use a numpy command to get the dimensions of the array\n",
    "\n",
    "c. Use another numpy command to get the number of items in the array\n",
    "\n",
    "d. Reshape the array into a  one dimensional array (1 x 25).\n",
    "\n",
    "e. Use selection to identify all even numbers in the array"
   ]
  },
  {
   "cell_type": "code",
   "execution_count": 45,
   "metadata": {},
   "outputs": [
    {
     "name": "stdout",
     "output_type": "stream",
     "text": [
      "[[ 7  8  9]\n",
      " [12 13 14]\n",
      " [17 18 19]]\n",
      "(5, 5)\n",
      "25\n",
      "[[ 1  2  3  4  5  6  7  8  9 10 11 12 13 14 15 16 17 18 19 20 21 22 23 24\n",
      "  25]]\n",
      "[[0 1 0 1 0]\n",
      " [1 0 1 0 1]\n",
      " [0 1 0 1 0]\n",
      " [1 0 1 0 1]\n",
      " [0 1 0 1 0]]\n"
     ]
    }
   ],
   "source": [
    "print(x[1:4,1:4])\n",
    "print(x.shape)\n",
    "print(x.size)\n",
    "print(np.reshape(x,(1,25)))\n",
    "print(np.where(x%2==0,1,0))"
   ]
  },
  {
   "cell_type": "markdown",
   "metadata": {},
   "source": [
    "### Problem 3. Random Number Generation in Numpy\n",
    "a. Generate a 3x3 array of random integers in the range of 0-9\n",
    "\n",
    "b. Generate a 100 random floats in the range of 0-1\n",
    "\n",
    "c. Generate 1000 observations from a normal distribution with mean 64 and standard deviation 2. \n",
    "\n",
    "d. **Optional** use matplotlib to draw a histogram of the data from the above. "
   ]
  },
  {
   "cell_type": "code",
   "execution_count": 52,
   "metadata": {},
   "outputs": [
    {
     "name": "stdout",
     "output_type": "stream",
     "text": [
      "[[4 6 2]\n",
      " [4 6 6]\n",
      " [6 0 6]]\n",
      "[0.32616399 0.99048422 0.75666592 0.35638739 0.06375512 0.36953172\n",
      " 0.86244034 0.09285589 0.47599481 0.99454893 0.59459739 0.92098329\n",
      " 0.38214718 0.46521116 0.37560654 0.15388476 0.12694784 0.95733578\n",
      " 0.70244533 0.52632099 0.24229106 0.70039226 0.73260912 0.46975187\n",
      " 0.15994424 0.31431915 0.29535647 0.06145058 0.7309567  0.44927558\n",
      " 0.31569997 0.91739438 0.00910494 0.63167392 0.59320074 0.02444794\n",
      " 0.84133819 0.66693561 0.18576645 0.38041839 0.47039591 0.57430703\n",
      " 0.61202141 0.80065425 0.76153496 0.2948044  0.89776006 0.18739598\n",
      " 0.0373372  0.73828291 0.90278827 0.40311963 0.95619249 0.57321256\n",
      " 0.31652401 0.5109554  0.23518336 0.50191886 0.02358467 0.47724239\n",
      " 0.16382289 0.03613751 0.42838332 0.61114051 0.26961483 0.39812352\n",
      " 0.23823532 0.4324325  0.22772722 0.23292488 0.42748446 0.72043221\n",
      " 0.45582316 0.76074786 0.07739778 0.7769221  0.89648024 0.92145861\n",
      " 0.08649769 0.81099107 0.35085702 0.76712721 0.17558288 0.25663531\n",
      " 0.22665307 0.10305223 0.99824835 0.4423612  0.71086082 0.06501447\n",
      " 0.64728151 0.04975745 0.98130111 0.7931099  0.1351501  0.52142746\n",
      " 0.12028309 0.29578128 0.01602847 0.83646561]\n"
     ]
    },
    {
     "data": {
      "text/plain": [
       "(array([ 3.,  0.,  6., 15., 22., 17., 13., 13.,  6.,  5.]),\n",
       " array([58.3334036 , 59.38919478, 60.44498596, 61.50077714, 62.55656831,\n",
       "        63.61235949, 64.66815067, 65.72394185, 66.77973302, 67.8355242 ,\n",
       "        68.89131538]),\n",
       " <a list of 10 Patch objects>)"
      ]
     },
     "execution_count": 52,
     "metadata": {},
     "output_type": "execute_result"
    },
    {
     "data": {
      "image/png": "[encoded data removed]",
      "text/plain": [
       "<Figure size 432x288 with 1 Axes>"
      ]
     },
     "metadata": {
      "needs_background": "light"
     },
     "output_type": "display_data"
    }
   ],
   "source": [
    "print(np.random.randint(0,9,(3,3)))\n",
    "print(np.random.sample(100))\n",
    "mean=64\n",
    "sd=2\n",
    "mean+sd*np.random.randn(1000)\n",
    "a=mean+sd*np.random.randn(100)\n",
    "import matplotlib.pyplot as plt\n",
    "plt.hist(a)"
   ]
  },
  {
   "cell_type": "markdown",
   "metadata": {},
   "source": [
    "# Problem 4. The datetime library (with pandas)\n",
    "You'll have to do some googling ...\n",
    "\n",
    "a. create a variable that stores the exact time Trump was elected president, to the nearest minute.  The program will default to the current time zone. \n",
    "b. create a variable to store the exact time now.\n",
    "\n",
    "c.  Use the date_range() function in pandas to create a time stamp for each day between the times you found in parts a and b. Notice or find tihe length of this object with len()"
   ]
  },
  {
   "cell_type": "code",
   "execution_count": 68,
   "metadata": {},
   "outputs": [
    {
     "name": "stdout",
     "output_type": "stream",
     "text": [
      "2017-01-20 12:00:00\n",
      "2019-04-10 13:00:35.388895\n"
     ]
    },
    {
     "data": {
      "text/plain": [
       "811"
      ]
     },
     "execution_count": 68,
     "metadata": {},
     "output_type": "execute_result"
    }
   ],
   "source": [
    "import datetime\n",
    "import pandas as pd\n",
    "from datetime import datetime\n",
    "trump=datetime(2017,1,20,12,0)\n",
    "print(trump)\n",
    "now=datetime.now()\n",
    "print(now)\n",
    "between=pd.date_range(trump,now)\n",
    "len(between)"
   ]
  },
  {
   "cell_type": "markdown",
   "metadata": {},
   "source": [
    "For the following problems, make sure you have the appropriate libraries installed and imported.  If you have not installed pandas datareader on your machine, you will need to do that first.  The html5lib 1.0b8 is also helpful. "
   ]
  },
  {
   "cell_type": "code",
   "execution_count": 69,
   "metadata": {},
   "outputs": [
    {
     "name": "stdout",
     "output_type": "stream",
     "text": [
      "Requirement already satisfied: pandas-datareader in c:\\users\\antho\\anaconda3\\lib\\site-packages (0.7.0)\n",
      "Requirement already satisfied: pandas>=0.19.2 in c:\\users\\antho\\anaconda3\\lib\\site-packages (from pandas-datareader) (0.23.4)\n",
      "Requirement already satisfied: lxml in c:\\users\\antho\\anaconda3\\lib\\site-packages (from pandas-datareader) (4.2.5)\n",
      "Requirement already satisfied: requests>=2.3.0 in c:\\users\\antho\\anaconda3\\lib\\site-packages (from pandas-datareader) (2.21.0)\n",
      "Requirement already satisfied: wrapt in c:\\users\\antho\\anaconda3\\lib\\site-packages (from pandas-datareader) (1.10.11)\n",
      "Requirement already satisfied: python-dateutil>=2.5.0 in c:\\users\\antho\\anaconda3\\lib\\site-packages (from pandas>=0.19.2->pandas-datareader) (2.7.5)\n",
      "Requirement already satisfied: pytz>=2011k in c:\\users\\antho\\anaconda3\\lib\\site-packages (from pandas>=0.19.2->pandas-datareader) (2018.7)\n",
      "Requirement already satisfied: numpy>=1.9.0 in c:\\users\\antho\\anaconda3\\lib\\site-packages (from pandas>=0.19.2->pandas-datareader) (1.15.4)\n",
      "Requirement already satisfied: chardet<3.1.0,>=3.0.2 in c:\\users\\antho\\anaconda3\\lib\\site-packages (from requests>=2.3.0->pandas-datareader) (3.0.4)\n",
      "Requirement already satisfied: certifi>=2017.4.17 in c:\\users\\antho\\anaconda3\\lib\\site-packages (from requests>=2.3.0->pandas-datareader) (2018.11.29)\n",
      "Requirement already satisfied: idna<2.9,>=2.5 in c:\\users\\antho\\anaconda3\\lib\\site-packages (from requests>=2.3.0->pandas-datareader) (2.8)\n",
      "Requirement already satisfied: urllib3<1.25,>=1.21.1 in c:\\users\\antho\\anaconda3\\lib\\site-packages (from requests>=2.3.0->pandas-datareader) (1.24.1)\n",
      "Requirement already satisfied: six>=1.5 in c:\\users\\antho\\anaconda3\\lib\\site-packages (from python-dateutil>=2.5.0->pandas>=0.19.2->pandas-datareader) (1.12.0)\n",
      "Requirement already up-to-date: html5lib==1.0b8 in c:\\users\\antho\\anaconda3\\lib\\site-packages (1.0b8)\n",
      "Requirement already satisfied, skipping upgrade: six in c:\\users\\antho\\anaconda3\\lib\\site-packages (from html5lib==1.0b8) (1.12.0)\n"
     ]
    }
   ],
   "source": [
    "# installing dependencies for pandas\n",
    "# this only has to be run once on your device, you can comment it out thereafter\n",
    "!pip install pandas-datareader\n",
    "!pip install --upgrade html5lib==1.0b8"
   ]
  },
  {
   "cell_type": "markdown",
   "metadata": {},
   "source": [
    "Imports for remaining problems "
   ]
  },
  {
   "cell_type": "code",
   "execution_count": 70,
   "metadata": {},
   "outputs": [],
   "source": [
    "import pandas as pd #pandas library\n",
    "from pandas_datareader import data #data readers (google, html, etc.)\n",
    "#The following line ensures that graphs are rendered in the notebook\n",
    "%matplotlib inline \n",
    "import numpy as np\n",
    "import matplotlib.pyplot as plt #Plotting library\n",
    "import datetime #datetime for timeseries support"
   ]
  },
  {
   "cell_type": "markdown",
   "metadata": {},
   "source": [
    "### Problem 5. Pandas Dataframe Basics\n",
    "a. Create a dataframe using the following customer data and column names.  Make sure the 'id' is set as the row index.  \n",
    "\n",
    "b. Print the two last columns, order_total and time.  \n",
    "\n",
    "c. Find the mean of the order_total column\n",
    "\n",
    "d. Print the second row of the dataframe  "
   ]
  },
  {
   "cell_type": "code",
   "execution_count": 82,
   "metadata": {
    "scrolled": true
   },
   "outputs": [
    {
     "name": "stdout",
     "output_type": "stream",
     "text": [
      "       last_order  order_total  time\n",
      "id                                  \n",
      "57640  2018-02-13       299.53    10\n",
      "52862  2018-04-16        95.54    33\n",
      "73637  2018-11-06       307.83    68\n",
      "80392  2018-12-03       339.34     7\n",
      "18811  2018-12-11       375.60    56\n",
      "       order_total  time\n",
      "id                      \n",
      "57640       299.53    10\n",
      "52862        95.54    33\n",
      "73637       307.83    68\n",
      "80392       339.34     7\n",
      "18811       375.60    56\n",
      "283.56800000000004\n",
      "last_order     2018-04-16\n",
      "order_total         95.54\n",
      "time                   33\n",
      "Name: 52862, dtype: object\n"
     ]
    }
   ],
   "source": [
    "data=[['57640','2018-02-13', 299.53,10],['52862','2018-04-16', 95.54,33],['73637','2018-11-06',307.83,68],['80392','2018-12-03',339.34,7],['18811','2018-12-11',375.60,56]]\n",
    "col_names=['id','last_order','order_total','time']\n",
    "df=pd.DataFrame(data,columns=col_names)\n",
    "df.set_index('id',inplace=True)\n",
    "print(df)\n",
    "print(df[['order_total','time']])\n",
    "print(df['order_total'].astype(float).mean())\n",
    "print(df.iloc[1])"
   ]
  },
  {
   "cell_type": "markdown",
   "metadata": {},
   "source": [
    "### 6. Operations with Pandas Dataframes\n",
    "a.  Use the following data to make a pandas dataframe. \n",
    "\n",
    "b.  Change all of the temperatures from Fahrenheit to Celsius using the formula (degrees F - 32) x 5/9=degrees C\n"
   ]
  },
  {
   "cell_type": "code",
   "execution_count": 101,
   "metadata": {},
   "outputs": [
    {
     "name": "stdout",
     "output_type": "stream",
     "text": [
      "    humidity  temperature  wind\n",
      "1         20           78     7\n",
      "2         50           61    10\n",
      "3        100           81     5\n",
      "4         90           62    15\n",
      "5         30           84    19\n",
      "6          0           66    28\n",
      "7          0           87    12\n",
      "8          0           68    14\n",
      "9          0           86     4\n",
      "10        60           68     0\n",
      "    humidity  temperature  wind\n",
      "1         20    25.555556     7\n",
      "2         50    16.111111    10\n",
      "3        100    27.222222     5\n",
      "4         90    16.666667    15\n",
      "5         30    28.888889    19\n",
      "6          0    18.888889    28\n",
      "7          0    30.555556    12\n",
      "8          0    20.000000    14\n",
      "9          0    30.000000     4\n",
      "10        60    20.000000     0\n"
     ]
    }
   ],
   "source": [
    "Blacksburg_Forecast = [ { 'humidity' :  20, 'temperature' : 78, 'wind' :  7} ,\n",
    "                        { 'humidity' :  50, 'temperature' : 61, 'wind' : 10} ,\n",
    "                        { 'humidity' : 100, 'temperature' : 81, 'wind' :  5} ,\n",
    "                        { 'humidity' :  90, 'temperature' : 62, 'wind' : 15} ,\n",
    "                        { 'humidity' :  30, 'temperature' : 84, 'wind' : 19} ,\n",
    "                        { 'humidity' :   0, 'temperature' : 66, 'wind' : 28} ,\n",
    "                        { 'humidity' :   0, 'temperature' : 87, 'wind' : 12} ,\n",
    "                        { 'humidity' :   0, 'temperature' : 68, 'wind' : 14} ,\n",
    "                        { 'humidity' :   0, 'temperature' : 86, 'wind' :  4} ,\n",
    "                        { 'humidity' :  60, 'temperature' : 68, 'wind' :  0}\n",
    "                       ]\n",
    "import pandas as pd\n",
    "import numpy as np\n",
    "bf=pd.DataFrame(Blacksburg_Forecast, index=['1','2','3','4','5','6','7','8','9','10'])\n",
    "print(bf)\n",
    "f=bf['temperature']\n",
    "bf['temperature']=(f-32)*(5/9)\n",
    "print(bf)"
   ]
  },
  {
   "cell_type": "markdown",
   "metadata": {},
   "source": [
    "### 7.  Data Extraction with Pandas Datareader\n",
    "Use the IEX data source for this problem.  You can read more about remote access with datareader [here](https://pandas-datareader.readthedocs.io/en/latest/).  \n",
    "\n",
    "a.  Create a pandas dataframe for a stock of your choice over a period of one year.  Follow the examples from the last part of lesson 5.2.  Print the first four lines of the table.\n",
    "\n",
    "b.  Find the mean of the 'high' column and the maximum of the 'open' column.  Make sure to import the math library. \n"
   ]
  },
  {
   "cell_type": "code",
   "execution_count": 126,
   "metadata": {},
   "outputs": [
    {
     "name": "stdout",
     "output_type": "stream",
     "text": [
      "            open   high    low  close   volume\n",
      "date                                          \n",
      "2018-04-10  4.87  4.995  4.850   4.96  2882122\n",
      "2018-04-11  4.85  5.180  4.840   5.17  3309428\n",
      "2018-04-12  5.20  5.340  5.165   5.32  3175452\n",
      "2018-04-13  5.32  5.440  5.300   5.34  4127949\n",
      "5.881143253968257\n",
      "7.67\n"
     ]
    }
   ],
   "source": [
    "from pandas_datareader import data\n",
    "from datetime import datetime\n",
    "\n",
    "symbol = 'FIT'\n",
    "data_source = 'iex'\n",
    "start=datetime(2018, 4, 10)\n",
    "end=datetime(2019, 4, 10)\n",
    "\n",
    "fit=data.DataReader(symbol, data_source, start, end)\n",
    "print(fit.head(4))\n",
    "print(fit['high'].mean())\n",
    "print(fit['open'].max())"
   ]
  },
  {
   "cell_type": "markdown",
   "metadata": {},
   "source": [
    "### 8.  Optional Challenge - Data Extraction and Manipulation\n",
    "See if you can figure out how to extract data from the star wars api:  'https://swapi.co/api/'. You can customize your data by adding to the url e.g. 'https://swapi.co/api/planets/' to get data about planets.  Extract the data and turn it into a tidy pandas dataframe.  You will need the requests library and probably the json library, perhaps others.  Have fun!"
   ]
  },
  {
   "cell_type": "code",
   "execution_count": null,
   "metadata": {},
   "outputs": [],
   "source": []
  }
 ],
 "metadata": {
  "kernelspec": {
   "display_name": "Python 3",
   "language": "python",
   "name": "python3"
  },
  "language_info": {
   "codemirror_mode": {
    "name": "ipython",
    "version": 3
   },
   "file_extension": ".py",
   "mimetype": "text/x-python",
   "name": "python",
   "nbconvert_exporter": "python",
   "pygments_lexer": "ipython3",
   "version": "3.7.1"
  }
 },
 "nbformat": 4,
 "nbformat_minor": 2
}
